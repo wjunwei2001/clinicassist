{
 "cells": [
  {
   "cell_type": "code",
   "execution_count": 1,
   "id": "8dcc846c",
   "metadata": {},
   "outputs": [
    {
     "data": {
      "text/plain": [
       "True"
      ]
     },
     "execution_count": 1,
     "metadata": {},
     "output_type": "execute_result"
    }
   ],
   "source": [
    "from dotenv import load_dotenv\n",
    "load_dotenv()"
   ]
  },
  {
   "cell_type": "code",
   "execution_count": 98,
   "id": "bce0535d",
   "metadata": {},
   "outputs": [],
   "source": [
    "from typing import Literal, Optional\n",
    "from pydantic import BaseModel, Field\n",
    "from langgraph.graph import StateGraph, START, END, MessagesState\n",
    "from langchain_core.tools import tool\n",
    "from langchain.chat_models import init_chat_model\n",
    "from langchain_core.messages import SystemMessage\n",
    "from langchain_core.messages import SystemMessage\n",
    "\n",
    "from utils import show_graph\n",
    "from prompts import BASE_PROMPT, PATIENT_INFO_PROMPT\n",
    "\n",
    "class AgentState(MessagesState):\n",
    "    \"\"\"State for the chatbot\"\"\"\n",
    "    patient_name: str\n",
    "    patient_age: int\n",
    "    patient_sex: Literal[\"male\", \"female\"]\n",
    "\n",
    "    # symptoms: list[str]\n",
    "    # red_flags: list[str]\n",
    "    # associated_conditions: list[str]\n",
    "    # medical_history: list[str]\n",
    "    # urgency: Literal[\"low\", \"medium\", \"high\"]\n"
   ]
  },
  {
   "cell_type": "code",
   "execution_count": 99,
   "id": "cdb770ab",
   "metadata": {},
   "outputs": [],
   "source": [
    "# Phase 1: Patient Information Collection\n",
    "class PatientInfoPartial(BaseModel):\n",
    "    name: Optional[str] = Field(description=\"The name of the patient\")\n",
    "    age: Optional[int] = Field(description=\"The age of the patient\")\n",
    "    sex: Optional[Literal[\"male\", \"female\"]] = Field(description=\"The biological sex of the patient\")\n",
    "    \n",
    "llm = init_chat_model(model=\"gpt-4o-mini\", temperature=0)\n",
    "extract_llm = llm.with_structured_output(PatientInfoPartial)\n",
    "\n",
    "def ask_patient_info(state: AgentState) -> AgentState: \n",
    "    missing = []\n",
    "    if state.get(\"patient_name\") is None: missing.append(\"name\")\n",
    "    if state.get(\"patient_age\") is None: missing.append(\"age\")\n",
    "    if state.get(\"patient_sex\") is None: missing.append(\"sex\")\n",
    "\n",
    "    known_bits = []\n",
    "    if state.get(\"patient_name\") is not None: known_bits.append(f\"name={state['patient_name']}\")\n",
    "    if state.get(\"patient_age\") is not None: known_bits.append(f\"age={state['patient_age']}\")\n",
    "    if state.get(\"patient_sex\") is not None: known_bits.append(f\"sex={state['patient_sex']}\")\n",
    "\n",
    "    steering = (\n",
    "        \"You are collecting basic patient demographic information for triage.\\n\"\n",
    "        f\"Known so far: {', '.join(known_bits) if known_bits else 'none'}.\\n\"\n",
    "        f\"Missing (in order): {', '.join(missing) if missing else 'none'}.\\n\"\n",
    "        \"- If anything is missing, ask ONLY for the first missing field with one concise question.\\n\"\n",
    "        \"- Keep it friendly and brief.\\n\"\n",
    "        \"- If nothing is missing, acknowledge completion of this stage.\"\n",
    "    )\n",
    "\n",
    "    msgs = [\n",
    "        SystemMessage(content=BASE_PROMPT),\n",
    "        SystemMessage(content=PATIENT_INFO_PROMPT),\n",
    "        SystemMessage(content=steering),\n",
    "        *state[\"messages\"],\n",
    "    ]\n",
    "    resp = llm.invoke(msgs)\n",
    "\n",
    "    return {\"messages\": [resp]}\n",
    "\n",
    "def extract_patient_info(state: AgentState) -> AgentState:\n",
    "    human_only = [m for m in state.get(\"messages\", []) if isinstance(m, HumanMessage)]\n",
    "    msgs = [\n",
    "        SystemMessage(content=BASE_PROMPT),\n",
    "        SystemMessage(content=(\n",
    "            PATIENT_INFO_PROMPT +\n",
    "            \"\\nOnly extract info stated by the patient. If not present, leave that field null.\"\n",
    "        )),\n",
    "        *human_only,\n",
    "    ]\n",
    "    parsed: PatientInfoPartial = extract_llm.invoke(msgs)\n",
    "\n",
    "    updates = {}\n",
    "    if parsed.name is not None and state.get(\"patient_name\") is None:\n",
    "        updates[\"patient_name\"] = parsed.name\n",
    "    if parsed.age is not None and state.get(\"patient_age\") is None:\n",
    "        updates[\"patient_age\"] = parsed.age\n",
    "    if parsed.sex is not None and state.get(\"patient_sex\") is None:\n",
    "        updates[\"patient_sex\"] = parsed.sex\n",
    "    return updates\n",
    "\n",
    "\n",
    "builder = StateGraph(AgentState)\n",
    "builder.add_node(\"collect_patient_info\", extract_patient_info)\n",
    "builder.add_node(\"ask_patient_info\", ask_patient_info)\n",
    "\n",
    "builder.add_edge(START, \"ask_patient_info\")\n",
    "builder.add_edge(\"ask_patient_info\", \"collect_patient_info\")\n",
    "builder.add_edge(\"collect_patient_info\", END)\n",
    "\n",
    "graph = builder.compile()\n"
   ]
  },
  {
   "cell_type": "code",
   "execution_count": 100,
   "id": "24d803b2",
   "metadata": {},
   "outputs": [],
   "source": [
    "from langgraph.checkpoint.memory import InMemorySaver\n",
    "\n",
    "checkpointer = InMemorySaver()\n",
    "graph = builder.compile(checkpointer=checkpointer)"
   ]
  },
  {
   "cell_type": "code",
   "execution_count": 101,
   "id": "c8dab3c6",
   "metadata": {},
   "outputs": [
    {
     "data": {
      "image/png": "[encoded data removed]",
      "text/plain": [
       "<IPython.core.display.Image object>"
      ]
     },
     "execution_count": 101,
     "metadata": {},
     "output_type": "execute_result"
    }
   ],
   "source": [
    "show_graph(graph)"
   ]
  },
  {
   "cell_type": "code",
   "execution_count": 102,
   "id": "f50613d8",
   "metadata": {},
   "outputs": [
    {
     "name": "stdout",
     "output_type": "stream",
     "text": [
      "Assistant: Hi there! Let's start with your name. What is your name?\n",
      "Assistant: Wang Junwei\n",
      "Assistant: Thank you, Wang Junwei! How old are you?\n",
      "Assistant: Thank you, Wang Junwei! How old are you?\n",
      "Assistant: 23 yo\n",
      "Assistant: Great! And what is your sex?\n",
      "Assistant: Great! And what is your sex?\n",
      "Assistant: male\n",
      "Assistant: Thank you for providing that information, Wang Junwei. We have completed the patient information collection phase!\n",
      "Assistant: Thank you for providing that information, Wang Junwei. We have completed the patient information collection phase!\n",
      "\n",
      "✓ Complete! Name: Wang Junwei, Age: 23, Sex: male\n"
     ]
    }
   ],
   "source": [
    "from langchain_core.messages import HumanMessage\n",
    "\n",
    "state = {\n",
    "    \"messages\": [],\n",
    "    \"patient_name\": None,\n",
    "    \"patient_age\": None,\n",
    "    \"patient_sex\": None,\n",
    "}\n",
    "\n",
    "config = {\"configurable\": {\"thread_id\": \"1\"}}\n",
    "\n",
    "# Initial invoke\n",
    "for event in graph.stream({\"messages\": []}, config, stream_mode=\"values\"):\n",
    "    if \"messages\" in event and event[\"messages\"]:\n",
    "        print(\"Assistant:\", event[\"messages\"][-1].content)\n",
    "\n",
    "# Loop\n",
    "while True:\n",
    "    user_input = input(\"User: \")\n",
    "    if user_input.lower() in [\"quit\", \"exit\", \"q\"]:\n",
    "        print(\"Goodbye!\")\n",
    "        break\n",
    "    \n",
    "    # Continue from interrupt with user's message\n",
    "    for event in graph.stream({\"messages\": [HumanMessage(content=user_input)]}, config, stream_mode=\"values\"):\n",
    "        if \"messages\" in event and event[\"messages\"]:\n",
    "            print(\"Assistant:\", event[\"messages\"][-1].content)\n",
    "    \n",
    "    # Check state\n",
    "    snapshot = graph.get_state(config)\n",
    "    if is_complete(snapshot.values):\n",
    "        s = snapshot.values\n",
    "        print(f\"\\n✓ Complete! Name: {s['patient_name']}, Age: {s['patient_age']}, Sex: {s['patient_sex']}\")\n",
    "        break"
   ]
  },
  {
   "cell_type": "code",
   "execution_count": 69,
   "id": "389b6f5a",
   "metadata": {},
   "outputs": [
    {
     "name": "stdout",
     "output_type": "stream",
     "text": [
      "patient_name='Jane Doe' patient_age=None patient_sex=None\n"
     ]
    }
   ],
   "source": [
    "\n",
    "test_msgs = [\n",
    "    SystemMessage(content=BASE_PROMPT),\n",
    "    SystemMessage(content=PATIENT_INFO_PROMPT),\n",
    "    HumanMessage(content=\"Hi, I'm Jane Doe,\"),\n",
    "]\n",
    "print(extract_llm.invoke(test_msgs))\n",
    "# Expect: PatientInfoPartial(name='Jane Doe', age=28, sex='female')"
   ]
  },
  {
   "cell_type": "code",
   "execution_count": null,
   "id": "03e644b4",
   "metadata": {},
   "outputs": [],
   "source": []
  }
 ],
 "metadata": {
  "kernelspec": {
   "display_name": "Python 3",
   "language": "python",
   "name": "python3"
  },
  "language_info": {
   "codemirror_mode": {
    "name": "ipython",
    "version": 3
   },
   "file_extension": ".py",
   "mimetype": "text/x-python",
   "name": "python",
   "nbconvert_exporter": "python",
   "pygments_lexer": "ipython3",
   "version": "3.10.5"
  }
 },
 "nbformat": 4,
 "nbformat_minor": 5
}
