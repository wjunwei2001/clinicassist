{
 "cells": [
  {
   "cell_type": "code",
   "execution_count": 1,
   "id": "b96cafec",
   "metadata": {},
   "outputs": [],
   "source": [
    " %load_ext autoreload\n",
    " %autoreload 2"
   ]
  },
  {
   "cell_type": "code",
   "execution_count": 2,
   "id": "8dcc846c",
   "metadata": {},
   "outputs": [
    {
     "data": {
      "text/plain": [
       "True"
      ]
     },
     "execution_count": 2,
     "metadata": {},
     "output_type": "execute_result"
    }
   ],
   "source": [
    "from dotenv import load_dotenv\n",
    "load_dotenv()"
   ]
  },
  {
   "cell_type": "code",
   "execution_count": 4,
   "id": "bce0535d",
   "metadata": {},
   "outputs": [],
   "source": [
    "from typing import Literal, Optional\n",
    "from pydantic import BaseModel, Field\n",
    "from langgraph.graph import StateGraph, START, END, MessagesState\n",
    "from langchain_core.tools import tool\n",
    "from langchain.chat_models import init_chat_model\n",
    "from langchain_core.messages import SystemMessage\n",
    "from langchain_core.messages import SystemMessage\n",
    "\n",
    "from utils import show_graph\n",
    "from prompts import BASE_PROMPT, PATIENT_INFO_ASKING_PROMPT, PATIENT_INFO_EXTRACTION_PROMPT\n",
    "\n",
    "class AgentState(MessagesState):\n",
    "    \"\"\"State for the chatbot\"\"\"\n",
    "    patient_name: str\n",
    "    patient_age: int\n",
    "    patient_sex: Literal[\"M\", \"F\"]\n",
    "    main_symptoms: list[str]\n",
    "    symptom_onset: str\n",
    "    associated_symptoms: list[str]\n",
    "    additional_symptom_info: list[str]\n",
    "    # medical_history: list[str]\n",
    "    # urgency: Literal[\"low\", \"medium\", \"high\"]\n"
   ]
  },
  {
   "cell_type": "code",
   "execution_count": 5,
   "id": "cdb770ab",
   "metadata": {},
   "outputs": [
    {
     "name": "stderr",
     "output_type": "stream",
     "text": [
      "C:\\Users\\user\\AppData\\Local\\Temp\\ipykernel_141140\\1124964412.py:7: LangChainBetaWarning: The function `init_chat_model` is in beta. It is actively being worked on, so the API may change.\n",
      "  llm = init_chat_model(model=\"gpt-4.1\", temperature=0)\n"
     ]
    }
   ],
   "source": [
    "# Phase 1: Patient Information Collection\n",
    "class PatientInfoPartial(BaseModel):\n",
    "    name: Optional[str] = Field(description=\"The name of the patient\")\n",
    "    age: Optional[int] = Field(description=\"The age of the patient\")\n",
    "    sex: Optional[Literal[\"M\", \"F\"]] = Field(description=\"The biological sex of the patient\")\n",
    "    \n",
    "llm = init_chat_model(model=\"gpt-4.1\", temperature=0)\n",
    "extract_llm = llm.with_structured_output(PatientInfoPartial)\n",
    "\n",
    "def ask_patient_info(state: AgentState) -> AgentState: \n",
    "    missing = []\n",
    "    if state.get(\"patient_name\") is None: missing.append(\"name\")\n",
    "    if state.get(\"patient_age\") is None: missing.append(\"age\")\n",
    "    if state.get(\"patient_sex\") is None: missing.append(\"sex\")\n",
    "\n",
    "    known_bits = []\n",
    "    if state.get(\"patient_name\") is not None: known_bits.append(f\"name={state['patient_name']}\")\n",
    "    if state.get(\"patient_age\") is not None: known_bits.append(f\"age={state['patient_age']}\")\n",
    "    if state.get(\"patient_sex\") is not None: known_bits.append(f\"sex={state['patient_sex']}\")\n",
    "\n",
    "    steering = (\n",
    "        \"You are collecting basic patient demographic information for triage.\\n\"\n",
    "        f\"Known so far: {', '.join(known_bits) if known_bits else 'none'}.\\n\"\n",
    "        f\"Missing (in order): {', '.join(missing) if missing else 'none'}.\\n\"\n",
    "        \"- If anything is missing, ask ONLY for the first missing field with one concise question.\\n\"\n",
    "        \"- Keep it friendly and brief.\"\n",
    "    )\n",
    "\n",
    "    msgs = [\n",
    "        SystemMessage(content=BASE_PROMPT),\n",
    "        SystemMessage(content=PATIENT_INFO_ASKING_PROMPT),\n",
    "        SystemMessage(content=steering),\n",
    "        *state[\"messages\"],\n",
    "    ]\n",
    "    resp = llm.invoke(msgs)\n",
    "\n",
    "    return {\"messages\": [resp]}\n",
    "\n",
    "def extract_patient_info(state: AgentState) -> AgentState:\n",
    "    human_only = [m for m in state.get(\"messages\", []) if isinstance(m, HumanMessage)]\n",
    "    msgs = [\n",
    "        SystemMessage(content=BASE_PROMPT),\n",
    "        SystemMessage(content=(\n",
    "            PATIENT_INFO_EXTRACTION_PROMPT +\n",
    "            \"\\nOnly extract info stated by the patient. If not present, leave that field null. Use the right capitalization for names (eg. Jon Ang instead of jon ang).\"\n",
    "        )),\n",
    "        *human_only,\n",
    "    ]\n",
    "    parsed: PatientInfoPartial = extract_llm.invoke(msgs)\n",
    "\n",
    "    updates = {}\n",
    "    if parsed.name is not None and state.get(\"patient_name\") is None:\n",
    "        updates[\"patient_name\"] = parsed.name\n",
    "    if parsed.age is not None and state.get(\"patient_age\") is None:\n",
    "        updates[\"patient_age\"] = parsed.age\n",
    "    if parsed.sex is not None and state.get(\"patient_sex\") is None:\n",
    "        updates[\"patient_sex\"] = parsed.sex\n",
    "    return updates\n",
    "\n",
    "\n",
    "patient_demo_builder = StateGraph(AgentState)\n",
    "patient_demo_builder.add_node(\"collect_patient_info\", extract_patient_info)\n",
    "patient_demo_builder.add_node(\"ask_patient_info\", ask_patient_info)\n",
    "\n",
    "patient_demo_builder.add_edge(START, \"ask_patient_info\")\n",
    "patient_demo_builder.add_edge(\"ask_patient_info\", \"collect_patient_info\")\n",
    "patient_demo_builder.add_edge(\"collect_patient_info\", END)\n",
    "\n",
    "patient_demo_graph = patient_demo_builder.compile()\n"
   ]
  },
  {
   "cell_type": "code",
   "execution_count": 6,
   "id": "24d803b2",
   "metadata": {},
   "outputs": [],
   "source": [
    "from langgraph.checkpoint.memory import InMemorySaver\n",
    "\n",
    "checkpointer = InMemorySaver()\n",
    "patient_demo_graph = patient_demo_builder.compile(checkpointer=checkpointer)"
   ]
  },
  {
   "cell_type": "code",
   "execution_count": 7,
   "id": "c8dab3c6",
   "metadata": {},
   "outputs": [
    {
     "data": {
      "image/png": "[encoded data removed]",
      "text/plain": [
       "<IPython.core.display.Image object>"
      ]
     },
     "execution_count": 7,
     "metadata": {},
     "output_type": "execute_result"
    }
   ],
   "source": [
    "show_graph(patient_demo_graph)"
   ]
  },
  {
   "cell_type": "code",
   "execution_count": 8,
   "id": "f50613d8",
   "metadata": {},
   "outputs": [
    {
     "name": "stdout",
     "output_type": "stream",
     "text": [
      "Assistant: Hi, welcome to ClinicAssist. How can I help you today? To get started, may I have your name, please?\n",
      "Assistant: Thank you, Wang Junwei. Could you please tell me your age?\n",
      "Assistant: Thank you. Could you please confirm your sex (male, female, or other)?\n",
      "Assistant: Thank you for providing your information, Wang Junwei.\n",
      "\n",
      "Now, let's move on to your symptoms. What brings you to the clinic today? Are you experiencing any specific symptoms or concerns?\n",
      "\n",
      "✓ Complete! Name: wang junwei, Age: 23, Sex: M\n"
     ]
    }
   ],
   "source": [
    "from langchain_core.messages import HumanMessage, AIMessage\n",
    "\n",
    "state = {\n",
    "    \"messages\": [],\n",
    "    \"patient_name\": None,\n",
    "    \"patient_age\": None,\n",
    "    \"patient_sex\": None,\n",
    "}\n",
    "\n",
    "config = {\"configurable\": {\"thread_id\": \"1\"}}\n",
    "\n",
    "last_ai_key = None \n",
    "\n",
    "# Initial invoke\n",
    "for event in patient_demo_graph.stream({\"messages\": []}, config, stream_mode=\"values\"):\n",
    "    msgs = event.get(\"messages\", [])\n",
    "    if not msgs:\n",
    "        continue\n",
    "    last = msgs[-1]\n",
    "    if isinstance(last, AIMessage):\n",
    "        key = getattr(last, \"id\", None) or (last.content, len(msgs))\n",
    "        if key != last_ai_key:\n",
    "            print(\"Assistant:\", last.content)\n",
    "            last_ai_key = key\n",
    "\n",
    "def is_complete(state: dict) -> bool:\n",
    "    return state.get(\"patient_name\") is not None and state.get(\"patient_age\") is not None and state.get(\"patient_sex\") is not None\n",
    "\n",
    "# Loop\n",
    "while True:\n",
    "    user_input = input(\"User: \")\n",
    "    if user_input.lower() in [\"quit\", \"exit\", \"q\"]:\n",
    "        print(\"Goodbye!\")\n",
    "        break\n",
    "    \n",
    "    for event in patient_demo_graph.stream({\"messages\": [HumanMessage(content=user_input)]}, config, stream_mode=\"values\"):\n",
    "        msgs = event.get(\"messages\", [])\n",
    "        if not msgs:\n",
    "            continue\n",
    "        last = msgs[-1]\n",
    "        if isinstance(last, AIMessage):\n",
    "            key = getattr(last, \"id\", None) or (last.content, len(msgs))\n",
    "            if key != last_ai_key:\n",
    "                print(\"Assistant:\", last.content)\n",
    "                last_ai_key = key\n",
    "    \n",
    "    # Check state\n",
    "    snapshot = patient_demo_graph.get_state(config)\n",
    "    if is_complete(snapshot.values):\n",
    "        s = snapshot.values\n",
    "        print(f\"\\n✓ Complete! Name: {s['patient_name']}, Age: {s['patient_age']}, Sex: {s['patient_sex']}\")\n",
    "        break\n",
    "\n",
    "checkpointer.delete_thread(\"1\")"
   ]
  },
  {
   "cell_type": "code",
   "execution_count": 9,
   "id": "abe1152f",
   "metadata": {},
   "outputs": [],
   "source": [
    "from prompts import BASE_PROMPT, SYMPTOMS_ASKING_PROMPT, SYMPTOMS_EXTRACTION_PROMPT, SYMPTOMS_SUFFICIENCY_CHECK_PROMPT\n",
    "from datetime import datetime\n",
    "\n",
    "def get_current_time():\n",
    "    return datetime.now().strftime(\"%Y-%m-%d %H:%M:%S\")\n",
    "\n",
    "# Phase 2: Symptoms Collection\n",
    "class SymptomsPartial(BaseModel):\n",
    "    main_symptoms: Optional[list[str]] = Field(description=\"Primary symptom(s) patient is experiencing\")\n",
    "    symptom_onset: Optional[str] = Field(description=\"When symptoms started (e.g., '3 days ago', 'this morning')\")\n",
    "    associated_symptoms: Optional[list[str]] = Field(description=\"Related or secondary symptoms\")\n",
    "    additional_symptom_info: Optional[list[str]] = Field(description=\"Other relevant details: severity, triggers, alleviating factors etc.\")\n",
    "\n",
    "class SymptomSufficiencyCheck(BaseModel):\n",
    "    is_sufficient: bool = Field(description=\"Whether the information provided is sufficient for first assessment by doctor\")\n",
    "    reason: Optional[str] = Field(description=\"Why more info is needed, or None if sufficient\")\n",
    "\n",
    "symptoms_llm = llm.with_structured_output(SymptomsPartial)\n",
    "symptom_sufficiency_llm = llm.with_structured_output(SymptomSufficiencyCheck)\n",
    "\n",
    "def ask_symptoms(state: AgentState) -> AgentState:\n",
    "    msgs = [\n",
    "        SystemMessage(content=BASE_PROMPT),\n",
    "        SystemMessage(content=SYMPTOMS_ASKING_PROMPT.format(current_time=get_current_time())),\n",
    "        *state[\"messages\"],\n",
    "    ]\n",
    "    resp = llm.invoke(msgs)\n",
    "    return {\"messages\": [resp]}\n",
    "\n",
    "def extract_symptoms(state: AgentState) -> AgentState:\n",
    "    extracted_symptoms = {\n",
    "        \"main_symptoms\": state.get(\"main_symptoms\"),\n",
    "        \"symptom_onset\": state.get(\"symptom_onset\"),\n",
    "        \"associated_symptoms\": state.get(\"associated_symptoms\"),\n",
    "        \"additional_symptom_info\": state.get(\"additional_symptom_info\")\n",
    "    }\n",
    "    human_only = [m for m in state.get(\"messages\", []) if isinstance(m, HumanMessage)]\n",
    "    msgs = [\n",
    "        SystemMessage(content=BASE_PROMPT),\n",
    "        SystemMessage(content=(\n",
    "            SYMPTOMS_EXTRACTION_PROMPT.format(current_time=get_current_time(), extracted_symptoms=extracted_symptoms) +\n",
    "            \"\\nOnly extract info stated by the patient.\"\n",
    "        )),\n",
    "        *human_only,\n",
    "    ]\n",
    "    parsed: SymptomsPartial = symptoms_llm.invoke(msgs)\n",
    "    updates = {}\n",
    "    if parsed.main_symptoms is not None and state.get(\"main_symptoms\") is None:\n",
    "        updates[\"main_symptoms\"] = parsed.main_symptoms\n",
    "    if parsed.symptom_onset is not None and state.get(\"symptom_onset\") is None:\n",
    "        updates[\"symptom_onset\"] = parsed.symptom_onset\n",
    "    if parsed.associated_symptoms is not None and state.get(\"associated_symptoms\") is None:\n",
    "        updates[\"associated_symptoms\"] = parsed.associated_symptoms\n",
    "    if parsed.additional_symptom_info is not None and state.get(\"additional_symptom_info\") is None:\n",
    "        updates[\"additional_symptom_info\"] = parsed.additional_symptom_info\n",
    "    return updates\n",
    "\n",
    "def check_symptom_sufficiency(dict: dict):\n",
    "    msgs = [\n",
    "        SystemMessage(content=BASE_PROMPT),\n",
    "        SystemMessage(content=SYMPTOMS_SUFFICIENCY_CHECK_PROMPT),\n",
    "        *dict[\"messages\"],\n",
    "    ]\n",
    "    resp = symptom_sufficiency_llm.invoke(msgs)\n",
    "    \n",
    "    return resp\n",
    "\n",
    "def should_continue(dict: dict):\n",
    "    has_main = dict.get(\"main_symptoms\") and len(dict[\"main_symptoms\"]) > 0\n",
    "    has_onset = dict.get(\"symptom_onset\") is not None\n",
    "\n",
    "    if not (has_main and has_onset):\n",
    "        return False\n",
    "    \n",
    "    check = check_symptom_sufficiency(dict)\n",
    "    return check.is_sufficient\n",
    "\n",
    "symptoms_builder = StateGraph(AgentState)\n",
    "symptoms_builder.add_node(\"ask_symptoms\", ask_symptoms)\n",
    "symptoms_builder.add_node(\"extract_symptoms\", extract_symptoms)\n",
    "\n",
    "symptoms_builder.add_edge(START, \"ask_symptoms\")\n",
    "symptoms_builder.add_edge(\"ask_symptoms\", \"extract_symptoms\")\n",
    "symptoms_builder.add_edge(\"extract_symptoms\", END)\n",
    "\n",
    "symptoms_graph = symptoms_builder.compile()"
   ]
  },
  {
   "cell_type": "code",
   "execution_count": 10,
   "id": "03e644b4",
   "metadata": {},
   "outputs": [],
   "source": [
    "from langgraph.checkpoint.memory import InMemorySaver\n",
    "\n",
    "checkpointer = InMemorySaver()\n",
    "symptoms_graph = symptoms_builder.compile(checkpointer=checkpointer)"
   ]
  },
  {
   "cell_type": "code",
   "execution_count": 11,
   "id": "1a1f2b57",
   "metadata": {},
   "outputs": [
    {
     "data": {
      "image/png": "[encoded data removed]",
      "text/plain": [
       "<IPython.core.display.Image object>"
      ]
     },
     "execution_count": 11,
     "metadata": {},
     "output_type": "execute_result"
    }
   ],
   "source": [
    "show_graph(symptoms_graph)"
   ]
  },
  {
   "cell_type": "code",
   "execution_count": 12,
   "id": "1ae63c56",
   "metadata": {},
   "outputs": [
    {
     "name": "stdout",
     "output_type": "stream",
     "text": [
      "Assistant: Thank you for providing your demographic information. Now, can you please tell me what symptoms or health concerns brought you to the clinic today?\n",
      "Assistant: Thank you for sharing that. Can you tell me when your fever and headache started? Did they begin at the same time, or did one start before the other?\n",
      "Assistant: Thank you for clarifying. Have you measured your temperature? If so, what was the highest reading you noticed?\n",
      "Assistant: Thank you. Besides fever and headache, are you experiencing any other symptoms, such as cough, sore throat, runny nose, body aches, nausea, vomiting, or diarrhea?\n",
      "Assistant: Thank you for letting me know. Can you describe the body aches a bit more? For example, are they mild or severe, and are they located in any specific part of your body or all over?\n",
      "Assistant: Thank you for describing that. Have you noticed any other symptoms, such as chills, sweating, fatigue, or difficulty breathing?\n",
      "Assistant: Thank you for your response. Just to confirm, your current symptoms are fever (up to 38°C), headache, and mild, generalized body aches, with no other symptoms like cough, sore throat, runny nose, nausea, vomiting, diarrhea, chills, sweating, fatigue, or difficulty breathing. Is that correct?\n",
      "\n",
      "✓ Complete! Main Symptoms: ['fever', 'headache']\n",
      " Symptom Onset: fever from the start of today, headache developed around noon\n",
      " Associated Symptoms: ['body aches']\n",
      " Additional Symptom Info: ['fever is 38 degrees']\n"
     ]
    }
   ],
   "source": [
    "from langchain_core.messages import HumanMessage, AIMessage\n",
    "\n",
    "state = {\n",
    "    \"messages\": [],\n",
    "    \"main_symptoms\": None,\n",
    "    \"symptom_onset\": None,\n",
    "    \"associated_symptoms\": None,\n",
    "    \"additional_symptom_info\": None,\n",
    "}\n",
    "\n",
    "config = {\"configurable\": {\"thread_id\": \"1\"}}\n",
    "\n",
    "last_ai_key = None \n",
    "\n",
    "# Initial invoke\n",
    "for event in symptoms_graph.stream({\"messages\": []}, config, stream_mode=\"values\"):\n",
    "    msgs = event.get(\"messages\", [])\n",
    "    if not msgs:\n",
    "        continue\n",
    "    last = msgs[-1]\n",
    "    if isinstance(last, AIMessage):\n",
    "        key = getattr(last, \"id\", None) or (last.content, len(msgs))\n",
    "        if key != last_ai_key:\n",
    "            print(\"Assistant:\", last.content)\n",
    "            last_ai_key = key\n",
    "\n",
    "# Loop\n",
    "while True:\n",
    "    user_input = input(\"User: \")\n",
    "    if user_input.lower() in [\"quit\", \"exit\", \"q\"]:\n",
    "        print(\"Goodbye!\")\n",
    "        break\n",
    "    \n",
    "    for event in symptoms_graph.stream({\"messages\": [HumanMessage(content=user_input)]}, config, stream_mode=\"values\"):\n",
    "        msgs = event.get(\"messages\", [])\n",
    "        if not msgs:\n",
    "            continue\n",
    "        last = msgs[-1]\n",
    "        if isinstance(last, AIMessage):\n",
    "            key = getattr(last, \"id\", None) or (last.content, len(msgs))\n",
    "            if key != last_ai_key:\n",
    "                print(\"Assistant:\", last.content)\n",
    "                last_ai_key = key\n",
    "    \n",
    "    # Check state\n",
    "    snapshot = symptoms_graph.get_state(config)\n",
    "    if should_continue(snapshot.values):\n",
    "        s = snapshot.values\n",
    "        print(f\"\\n✓ Complete! Main Symptoms: {s['main_symptoms']}\\n Symptom Onset: {s['symptom_onset']}\\n Associated Symptoms: {s['associated_symptoms']}\\n Additional Symptom Info: {s['additional_symptom_info']}\")\n",
    "        break\n",
    "\n",
    "checkpointer.delete_thread(\"1\")"
   ]
  },
  {
   "cell_type": "code",
   "execution_count": null,
   "id": "12c10a3e",
   "metadata": {},
   "outputs": [],
   "source": []
  }
 ],
 "metadata": {
  "kernelspec": {
   "display_name": "Python 3",
   "language": "python",
   "name": "python3"
  },
  "language_info": {
   "codemirror_mode": {
    "name": "ipython",
    "version": 3
   },
   "file_extension": ".py",
   "mimetype": "text/x-python",
   "name": "python",
   "nbconvert_exporter": "python",
   "pygments_lexer": "ipython3",
   "version": "3.10.5"
  }
 },
 "nbformat": 4,
 "nbformat_minor": 5
}
